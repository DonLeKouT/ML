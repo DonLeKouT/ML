{
 "cells": [
  {
   "cell_type": "code",
   "execution_count": 1,
   "id": "100a9483-6a68-4178-9506-85e6de0eb3c8",
   "metadata": {},
   "outputs": [],
   "source": [
    "%config Completer.use_jedi = False\n",
    "import tensorflow as tf\n",
    "from tensorflow.keras import layers\n",
    "from tensorflow import keras\n",
    "import matplotlib\n",
    "import glob\n",
    "\n",
    "def rcparams(r=0.5):\n",
    "    matplotlib.rcParams['font.size'] = 25 * r\n",
    "    matplotlib.rcParams['xtick.labelsize'] = 20 * r\n",
    "    matplotlib.rcParams['ytick.labelsize'] = 20 * r\n",
    "    matplotlib.rcParams['axes.labelsize'] = 25 * r\n",
    "    matplotlib.rcParams['legend.title_fontsize'] = 17 * r\n",
    "    matplotlib.rcParams['legend.fontsize'] = 17 * r\n",
    "    matplotlib.rcParams['axes.axisbelow'] = True\n",
    "    matplotlib.rcParams['figure.figsize'] = [6 * r, 6 * r]\n",
    "\n",
    "rcparams()\n",
    "\n",
    "# format axis\n",
    "def format_axis(ax):\n",
    "    from matplotlib.ticker import (AutoMinorLocator)\n",
    "    ax.xaxis.set_minor_locator(AutoMinorLocator())\n",
    "    ax.yaxis.set_minor_locator(AutoMinorLocator())\n",
    "    ax.tick_params(which='both', width=2)\n",
    "    ax.tick_params(which='major', length=6)\n",
    "    ax.tick_params(which='minor', length=3)\n",
    "    ax.locator_params(axis='x', nbins=5)\n",
    "    ax.locator_params(axis='y', nbins=5)\n",
    "    for axis in ['top', 'bottom', 'left', 'right']:\n",
    "        ax.spines[axis].set_linewidth(1.5)\n"
   ]
  },
  {
   "cell_type": "code",
   "execution_count": 7,
   "id": "5cf3f791-199f-4d3b-a57b-7bb23cd3b2c5",
   "metadata": {},
   "outputs": [],
   "source": [
    "def cnn2d(shape, num_filters):\n",
    "    \"\"\"\n",
    "    2D CNN model.\n",
    "    :param shape: tuple, shape of the input, e.g. (25, 25, 2).\n",
    "    :param num_filters: int, number of convolutional filters in each layer.\n",
    "    :return: Keras model.\n",
    "    \"\"\"\n",
    "    np.random.seed(0)\n",
    "    tf.random.set_seed(0)\n",
    "    inputs = layers.Input(shape)\n",
    "    x = layers.Conv2D(num_filters, 3, activation='relu')(inputs)\n",
    "    x = layers.Conv2D(num_filters, 3, activation='relu')(x)\n",
    "    x = layers.MaxPool2D()(x)\n",
    "    x = layers.Conv2D(num_filters, 3, activation='relu')(x)\n",
    "    x = layers.Conv2D(num_filters, 3, activation='relu')(x)\n",
    "    x = layers.MaxPool2D()(x)\n",
    "    x = layers.Flatten()(x)\n",
    "    for _ in range(3):\n",
    "        x = layers.Dense(64, activation='relu')(x)\n",
    "        x = layers.Dropout(0.2)(x)\n",
    "    outputs = layers.Dense(14, activation='softmax')(x)\n",
    "    model = keras.Model(inputs, outputs, name='2dcnn')\n",
    "    return model"
   ]
  },
  {
   "cell_type": "code",
   "execution_count": 8,
   "id": "87885b92-6cb5-46a3-934c-8292af15ab31",
   "metadata": {},
   "outputs": [],
   "source": [
    "def cnn1d(shape, num_filters):\n",
    "    \"\"\"\n",
    "    1D CNN model.\n",
    "    :param shape: tuple, shape of the input, e.g. (1600, 1).\n",
    "    :param num_filters: int, number of convolutional filters in each layer.\n",
    "    :return: Keras model.\n",
    "    \"\"\"\n",
    "    np.random.seed(0)\n",
    "    tf.random.set_seed(0)\n",
    "    inputs = layers.Input(shape)\n",
    "    x = layers.BatchNormalization()(inputs)\n",
    "    x = layers.Conv1D(num_filters, 3, activation='relu')(x)\n",
    "    x = layers.Conv1D(num_filters, 3, activation='relu')(x)\n",
    "    x = layers.MaxPool1D()(x)\n",
    "    x = layers.Conv1D(num_filters, 3, activation='relu')(x)\n",
    "    x = layers.Conv1D(num_filters, 3, activation='relu')(x)\n",
    "    x = layers.MaxPool1D()(x)\n",
    "    x = layers.Flatten()(x)\n",
    "    for _ in range(3):\n",
    "        x = layers.Dense(64, activation='relu')(x)\n",
    "        x = layers.Dropout(0.2)(x)\n",
    "    outputs = layers.Dense(14, activation='softmax')(x)\n",
    "    model = keras.Model(inputs, outputs, name='1dcnn')\n",
    "    return model"
   ]
  },
  {
   "cell_type": "code",
   "execution_count": 15,
   "id": "460312bd-fadb-41c5-8cdc-d8b9de897766",
   "metadata": {},
   "outputs": [
    {
     "name": "stdout",
     "output_type": "stream",
     "text": [
      "25774,0.6574999999999999\n",
      "56078,1.4305612244897956\n",
      "158158,4.034642857142856\n",
      "99502,2.538316326530612\n",
      "203534,5.192193877551019\n",
      "453070,11.557908163265305\n",
      "246958,6.299948979591836\n",
      "498446,12.715459183673467\n",
      "1042894,26.6044387755102\n",
      "512174,13.06566326530612\n",
      "1028878,26.246887755102037\n",
      "2103758,53.66729591836734\n"
     ]
    }
   ],
   "source": [
    "for shape in [25, 50, 75, 100]:\n",
    "    for num_filters in [16, 32, 64]:\n",
    "        model = cnn2d(shape=(shape, shape, 2), num_filters=num_filters)\n",
    "        n_params = model.count_params()\n",
    "        ratio = n_params / (70000 * 0.56)\n",
    "        print(*[n_params, ratio], sep=',')"
   ]
  },
  {
   "cell_type": "code",
   "execution_count": 16,
   "id": "e9111c76-16fe-43eb-b4c1-a8357766d0dd",
   "metadata": {},
   "outputs": [
    {
     "name": "stdout",
     "output_type": "stream",
     "text": [
      "418242,10.669438775510201\n",
      "831794,21.219234693877546\n",
      "1672722,42.67147959183673\n"
     ]
    }
   ],
   "source": [
    "for shape in [1600]:\n",
    "    for num_filters in [16, 32, 64]:\n",
    "        model = cnn1d(shape=(shape, 1), num_filters=num_filters)\n",
    "        n_params = model.count_params()\n",
    "        ratio = n_params / (70000 * 0.56)\n",
    "        print(*[n_params, ratio], sep=',')"
   ]
  },
  {
   "cell_type": "code",
   "execution_count": 25,
   "id": "70764f33-1258-4e7f-a795-c8671f96fd75",
   "metadata": {},
   "outputs": [],
   "source": [
    "empty_name = []\n",
    "for k in range(1, 6):\n",
    "    for image_size in [0, 25, 50, 75, 100]:\n",
    "        for learning_rate in [0.0005, 0.001, 0.005]:\n",
    "            for batch_size in [64, 128, 256]:\n",
    "                for model_checkpoint in ['loss', 'acc']:\n",
    "                    for num_filters in [16, 32, 64]:\n",
    "                        name = f'fast_wtih_pc_{k}_{image_size}_{learning_rate}_{batch_size}_{model_checkpoint}_{num_filters}'\n",
    "                        file = glob.glob(f'/Users/sjiang87/machinelearning2/plastic/result/2nd/{name}.pickle')\n",
    "                        if len(file) == 0:\n",
    "                            empty_name.append(name)"
   ]
  },
  {
   "cell_type": "code",
   "execution_count": 24,
   "id": "32939f62-cb1d-40fa-92ed-2bfef8d0d573",
   "metadata": {},
   "outputs": [
    {
     "data": {
      "text/plain": [
       "60"
      ]
     },
     "execution_count": 24,
     "metadata": {},
     "output_type": "execute_result"
    }
   ],
   "source": [
    "len(empty_name)"
   ]
  },
  {
   "cell_type": "code",
   "execution_count": 22,
   "id": "8d7e110d-da05-4ea0-a97b-dc3a176d6050",
   "metadata": {},
   "outputs": [
    {
     "data": {
      "text/plain": [
       "1050"
      ]
     },
     "execution_count": 22,
     "metadata": {},
     "output_type": "execute_result"
    }
   ],
   "source": [
    "file = glob.glob(f'/Users/sjiang87/machinelearning2/plastic/result/2nd/*.pickle')\n",
    "len(file)"
   ]
  },
  {
   "cell_type": "code",
   "execution_count": 67,
   "id": "f8a6bb4c-c78b-4854-bf4b-46ecf1f673f9",
   "metadata": {},
   "outputs": [],
   "source": [
    "myfile = open('cnn_left.txt', 'w')\n",
    "for image_size in [0, 25, 50, 75, 100]:\n",
    "    for learning_rate in [0.0005, 0.001, 0.005]:\n",
    "        for batch_size in [64, 128, 256]:\n",
    "            for model_checkpoint in ['loss', 'acc']:\n",
    "                for num_filters in [16, 32, 64]:\n",
    "                    name = f'fast_wtih_pc_{k}_{image_size}_{learning_rate}_{batch_size}_{model_checkpoint}_{num_filters}'\n",
    "                    file = glob.glob(f'/Users/sjiang87/machinelearning2/plastic/result/2nd/{name}.pickle')\n",
    "                    if len(file) == 0:\n",
    "                        name2 = f'{learning_rate}, {batch_size}, {model_checkpoint}, {num_filters}, {image_size}\\n'\n",
    "                        myfile.write(name2)\n",
    "myfile.close()"
   ]
  },
  {
   "cell_type": "code",
   "execution_count": 72,
   "id": "1979a4cd-4240-4c1e-ae85-3d0f028b5789",
   "metadata": {},
   "outputs": [
    {
     "name": "stdout",
     "output_type": "stream",
     "text": [
      "0.9996571428571429\n",
      "/Users/sjiang87/machinelearning2/plastic/result/2nd/fast_wtih_pc_1_0_0.0005_256_loss_16.pickle\n"
     ]
    }
   ],
   "source": [
    "\n",
    "import numpy as np\n",
    "acc = 0\n",
    "name = 0\n",
    "for learning_rate in [0.0005, 0.001, 0.005]:\n",
    "    for batch_size in [64, 128, 256]:\n",
    "        for model_checkpoint in ['loss', 'acc']:\n",
    "            for num_filters in [16, 32, 64]:\n",
    "                files = glob.glob(RESULT_DIR + f'fast_wtih_pc_*_0_{learning_rate}_{batch_size}_{model_checkpoint}_{num_filters}.pickle')\n",
    "                y_trues = []\n",
    "                y_preds = []\n",
    "                for file in files:\n",
    "                    with open(file, 'rb') as handle:\n",
    "                        y_true = pickle.load(handle)\n",
    "                        y_pred = pickle.load(handle)\n",
    "                        hist = pickle.load(handle)\n",
    "                    y_true = np.argmax(y_true, axis=1)\n",
    "                    y_trues.append(y_true)\n",
    "                    y_preds.append(y_pred)\n",
    "                y_true = np.ravel(y_trues)\n",
    "                y_pred = np.ravel(y_preds)\n",
    "                acc_temp = skm.accuracy_score(y_true, y_pred)\n",
    "                if acc_temp > acc:\n",
    "                    acc = acc_temp\n",
    "                    name = files[0]\n",
    "print(acc)\n",
    "print(name)"
   ]
  },
  {
   "cell_type": "code",
   "execution_count": 61,
   "id": "79f2280c-95b2-4bf4-b210-c879e1ff0834",
   "metadata": {},
   "outputs": [
    {
     "data": {
      "text/plain": [
       "0.9923142857142857"
      ]
     },
     "execution_count": 61,
     "metadata": {},
     "output_type": "execute_result"
    }
   ],
   "source": [
    "acc"
   ]
  },
  {
   "cell_type": "code",
   "execution_count": 51,
   "id": "5b506d7a-7bf5-4852-94ff-629d0770d5db",
   "metadata": {},
   "outputs": [
    {
     "data": {
      "text/plain": [
       "0.9989285714285714"
      ]
     },
     "execution_count": 51,
     "metadata": {},
     "output_type": "execute_result"
    }
   ],
   "source": [
    "skm.accuracy_score(y_true, y_pred)"
   ]
  },
  {
   "cell_type": "code",
   "execution_count": 52,
   "id": "7973c30b-0866-44c4-8706-f8a561448920",
   "metadata": {},
   "outputs": [],
   "source": [
    "import matplotlib.pyplot as plt"
   ]
  },
  {
   "cell_type": "code",
   "execution_count": 53,
   "id": "0bf0d9fd-7d5b-4f38-ba86-1b82d3d82a15",
   "metadata": {},
   "outputs": [
    {
     "data": {
      "text/plain": [
       "[<matplotlib.lines.Line2D at 0x7fa8b94c5700>]"
      ]
     },
     "execution_count": 53,
     "metadata": {},
     "output_type": "execute_result"
    },
    {
     "data": {
      "image/png": "[encoded data removed]",
      "text/plain": [
       "<Figure size 432x288 with 1 Axes>"
      ]
     },
     "metadata": {
      "needs_background": "light"
     },
     "output_type": "display_data"
    }
   ],
   "source": [
    "plt.plot(hist['loss'])\n",
    "plt.plot(hist['val_loss'])"
   ]
  },
  {
   "cell_type": "code",
   "execution_count": null,
   "id": "a96c178e-a29f-43b3-8c4d-be21e24ddfe9",
   "metadata": {},
   "outputs": [],
   "source": []
  }
 ],
 "metadata": {
  "kernelspec": {
   "display_name": "Python 3",
   "language": "python",
   "name": "python3"
  },
  "language_info": {
   "codemirror_mode": {
    "name": "ipython",
    "version": 3
   },
   "file_extension": ".py",
   "mimetype": "text/x-python",
   "name": "python",
   "nbconvert_exporter": "python",
   "pygments_lexer": "ipython3",
   "version": "3.9.5"
  }
 },
 "nbformat": 4,
 "nbformat_minor": 5
}
