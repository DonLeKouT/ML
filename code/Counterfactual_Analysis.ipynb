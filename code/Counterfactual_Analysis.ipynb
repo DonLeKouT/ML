{
 "cells": [
  {
   "cell_type": "markdown",
   "id": "0bb16e81",
   "metadata": {},
   "source": [
    "## Preparation"
   ]
  },
  {
   "cell_type": "markdown",
   "id": "a88a11a5",
   "metadata": {},
   "source": [
    "#### Import Libraries"
   ]
  },
  {
   "cell_type": "code",
   "execution_count": 1,
   "id": "263f07c3",
   "metadata": {},
   "outputs": [
    {
     "name": "stderr",
     "output_type": "stream",
     "text": [
      "Using backend: pytorch\n"
     ]
    }
   ],
   "source": [
    "import torch\n",
    "import numpy as np\n",
    "import pandas as pd\n",
    "from model_GNN import solvgnn_binary, solvgnn_ternary\n",
    "from generate_dataset import solvent_dataset_binary, solvent_dataset_ternary\n",
    "import matplotlib.pyplot as plt"
   ]
  },
  {
   "cell_type": "markdown",
   "id": "14fb28c9",
   "metadata": {},
   "source": [
    "#### Load trained models"
   ]
  },
  {
   "cell_type": "code",
   "execution_count": 2,
   "id": "c45898dc",
   "metadata": {},
   "outputs": [],
   "source": [
    "model = solvgnn_binary(in_dim=74, hidden_dim=256, n_classes=2).cuda()"
   ]
  },
  {
   "cell_type": "code",
   "execution_count": 3,
   "id": "6a6bd7c1",
   "metadata": {},
   "outputs": [],
   "source": [
    "cv_param_list = []\n",
    "for cv_id in range(5):\n",
    "    cv_param_list.append('../saved_model/solvgnn_binary_final_model_cv{}.pth'.format(cv_id))"
   ]
  },
  {
   "cell_type": "markdown",
   "id": "e3bf92fd",
   "metadata": {},
   "source": [
    "#### Initialize dataset class"
   ]
  },
  {
   "cell_type": "code",
   "execution_count": 4,
   "id": "d562a149",
   "metadata": {},
   "outputs": [],
   "source": [
    "dataset_path = '../data/output_binary_all.csv'\n",
    "solvent_list_path = '../data/solvent_list.csv'\n",
    "dataset = solvent_dataset_binary(input_file_path=dataset_path,\n",
    "                                 solvent_list_path=solvent_list_path,\n",
    "                                 generate_all=False)"
   ]
  },
  {
   "cell_type": "code",
   "execution_count": 5,
   "id": "ce0701db",
   "metadata": {},
   "outputs": [
    {
     "name": "stdout",
     "output_type": "stream",
     "text": [
      "solvent_262 BENZENE c1ccccc1\n",
      "solvent_782 TOLUENE Cc1ccccc1\n"
     ]
    }
   ],
   "source": [
    "_ = dataset.search_chemical(\"benzene\")\n",
    "_ = dataset.search_chemical(\"toluene\")"
   ]
  },
  {
   "cell_type": "code",
   "execution_count": 6,
   "id": "83db3ff9",
   "metadata": {},
   "outputs": [],
   "source": [
    "base_solv1_id = \"solvent_262\"\n",
    "base_solv2_id = \"solvent_782\"\n",
    "base_solv1_x = 0.5"
   ]
  },
  {
   "cell_type": "code",
   "execution_count": 7,
   "id": "febf7e6b",
   "metadata": {},
   "outputs": [],
   "source": [
    "# _ = dataset.get_all_predictions(base_solv1_id,model,cp_list)\n",
    "# _ = dataset.get_all_predictions(base_solv2_id,model,cp_list)"
   ]
  },
  {
   "cell_type": "code",
   "execution_count": 8,
   "id": "b723201d",
   "metadata": {},
   "outputs": [],
   "source": [
    "output_cv = pd.read_csv(\"../counterfactual/output_cv_base_{}.csv\".format(base_solv1_id))\n",
    "filter_condition1 = (output_cv[\"solv1\"]==base_solv1_id)|(output_cv[\"solv2\"]==base_solv1_id)\n",
    "filter_condition2 = (output_cv[\"solv1\"]==base_solv2_id)|(output_cv[\"solv2\"]==base_solv2_id)\n",
    "filter_condition_or = filter_condition1 | filter_condition2\n",
    "filter_condition_and = filter_condition1 & filter_condition2\n",
    "base_sample = output_cv[filter_condition_and & (output_cv[\"solv1_x\"]==base_solv1_x)]\n",
    "pred_gam1 = base_sample[\"pred_gam1\"].values[0]\n",
    "pred_gam2 = base_sample[\"pred_gam2\"].values[0]"
   ]
  },
  {
   "cell_type": "code",
   "execution_count": 9,
   "id": "b3b22429",
   "metadata": {},
   "outputs": [
    {
     "name": "stdout",
     "output_type": "stream",
     "text": [
      "500 out of 3500 done!\n",
      "1000 out of 3500 done!\n",
      "1500 out of 3500 done!\n",
      "2000 out of 3500 done!\n",
      "2500 out of 3500 done!\n",
      "3000 out of 3500 done!\n",
      "3500 out of 3500 done!\n"
     ]
    }
   ],
   "source": [
    "sim_all = []\n",
    "for i in range(len(output_cv)):\n",
    "    smiles_list1 = [dataset.solvent_smiles[base_solv1_id],dataset.solvent_smiles[base_solv2_id]]\n",
    "    smiles_list2 = [output_cv[\"solv1_smiles\"].iloc[i],output_cv[\"solv2_smiles\"].iloc[i]]\n",
    "    _,sim = dataset.get_external_similarity(idx1=None,\n",
    "                                            idx2=None,\n",
    "                                            smiles_list1=smiles_list1,\n",
    "                                            smiles_list2=smiles_list2)\n",
    "    sim_all.append(sim)\n",
    "    if (i + 1) % 500 == 0:\n",
    "        print('{} out of {} done!'.format(i+1,len(output_cv)))\n",
    "sim_all = np.array(sim_all)"
   ]
  },
  {
   "cell_type": "code",
   "execution_count": 10,
   "id": "c4bf3520",
   "metadata": {},
   "outputs": [],
   "source": [
    "ae = np.array((np.abs(output_cv[\"pred_gam1\"]-pred_gam1)+np.abs(output_cv[\"pred_gam2\"]-pred_gam2))/2)\n",
    "ae = ae/np.max(ae)\n",
    "alpha = 0.9\n",
    "cv_score = alpha*sim_all+(1-alpha)*ae\n",
    "output_cv[\"sim_base2_{}\".format(base_solv2_id)] = sim_all\n",
    "output_cv[\"cf_score_base2_{}\".format(base_solv2_id)] = cv_score\n",
    "cf_idx1 = output_cv[filter_condition_and].sort_values(by=\"cf_score_base2_{}\".format(base_solv2_id),ascending=False).iloc[0]\n",
    "cf_idx2 = output_cv[filter_condition1 & ~filter_condition2].sort_values(by=\"cf_score_base2_{}\".format(base_solv2_id),ascending=False).iloc[0]\n",
    "cf_idx4 = output_cv[filter_condition1 & ~filter_condition2].sort_values(by=\"cf_score_base2_{}\".format(base_solv2_id),ascending=True).iloc[0]"
   ]
  },
  {
   "cell_type": "code",
   "execution_count": 11,
   "id": "806016d6",
   "metadata": {},
   "outputs": [],
   "source": [
    "base_solv2_id = \"solvent_262\"\n",
    "base_solv1_id = \"solvent_782\"\n",
    "base_solv1_x = 0.5"
   ]
  },
  {
   "cell_type": "code",
   "execution_count": 12,
   "id": "3d33815b",
   "metadata": {},
   "outputs": [],
   "source": [
    "output_cv = pd.read_csv(\"../counterfactual/output_cv_base_{}.csv\".format(base_solv1_id))\n",
    "filter_condition1 = (output_cv[\"solv1\"]==base_solv1_id)|(output_cv[\"solv2\"]==base_solv1_id)\n",
    "filter_condition2 = (output_cv[\"solv1\"]==base_solv2_id)|(output_cv[\"solv2\"]==base_solv2_id)\n",
    "filter_condition_or = filter_condition1 | filter_condition2\n",
    "filter_condition_and = filter_condition1 & filter_condition2\n",
    "base_sample = output_cv[filter_condition_and & (output_cv[\"solv1_x\"]==base_solv1_x)]\n",
    "pred_gam1 = base_sample[\"pred_gam1\"].values[0]\n",
    "pred_gam2 = base_sample[\"pred_gam2\"].values[0]"
   ]
  },
  {
   "cell_type": "code",
   "execution_count": 13,
   "id": "b6b093e6",
   "metadata": {},
   "outputs": [
    {
     "name": "stdout",
     "output_type": "stream",
     "text": [
      "500 out of 3500 done!\n",
      "1000 out of 3500 done!\n",
      "1500 out of 3500 done!\n",
      "2000 out of 3500 done!\n",
      "2500 out of 3500 done!\n",
      "3000 out of 3500 done!\n",
      "3500 out of 3500 done!\n"
     ]
    }
   ],
   "source": [
    "sim_all = []\n",
    "for i in range(len(output_cv)):\n",
    "    smiles_list1 = [dataset.solvent_smiles[base_solv1_id],dataset.solvent_smiles[base_solv2_id]]\n",
    "    smiles_list2 = [output_cv[\"solv1_smiles\"].iloc[i],output_cv[\"solv2_smiles\"].iloc[i]]\n",
    "    _,sim = dataset.get_external_similarity(idx1=None,\n",
    "                                            idx2=None,\n",
    "                                            smiles_list1=smiles_list1,\n",
    "                                            smiles_list2=smiles_list2)\n",
    "    sim_all.append(sim)\n",
    "    if (i + 1) % 500 == 0:\n",
    "        print('{} out of {} done!'.format(i+1,len(output_cv)))\n",
    "sim_all = np.array(sim_all)"
   ]
  },
  {
   "cell_type": "code",
   "execution_count": 14,
   "id": "f228ebdb",
   "metadata": {},
   "outputs": [],
   "source": [
    "ae = np.array((np.abs(output_cv[\"pred_gam1\"]-pred_gam1)+np.abs(output_cv[\"pred_gam2\"]-pred_gam2))/2)\n",
    "ae = ae/np.max(ae)\n",
    "alpha = 0.9\n",
    "cv_score = alpha*sim_all+(1-alpha)*ae\n",
    "output_cv[\"sim_base2_{}\".format(base_solv2_id)] = sim_all\n",
    "output_cv[\"cf_score_base2_{}\".format(base_solv2_id)] = cv_score\n",
    "cf_idx3 = output_cv[filter_condition1 & ~filter_condition2].sort_values(by=\"cf_score_base2_{}\".format(base_solv2_id),ascending=False).iloc[0]\n",
    "cf_idx5 = output_cv[filter_condition1 & ~filter_condition2].sort_values(by=\"cf_score_base2_{}\".format(base_solv2_id),ascending=True).iloc[0]"
   ]
  },
  {
   "cell_type": "code",
   "execution_count": 15,
   "id": "32e2f80c",
   "metadata": {},
   "outputs": [],
   "source": [
    "base_solv1_id = \"solvent_262\"\n",
    "base_solv2_id = \"solvent_782\"\n",
    "base_solv1_x = 0.5"
   ]
  },
  {
   "cell_type": "code",
   "execution_count": 16,
   "id": "4a75b433",
   "metadata": {},
   "outputs": [],
   "source": [
    "output_cv = pd.read_csv(\"../counterfactual/output_cv_base_{}.csv\".format(base_solv1_id))\n",
    "filter_condition1 = (output_cv[\"solv1\"]==base_solv1_id)|(output_cv[\"solv2\"]==base_solv1_id)\n",
    "filter_condition2 = (output_cv[\"solv1\"]==base_solv2_id)|(output_cv[\"solv2\"]==base_solv2_id)\n",
    "filter_condition_or = filter_condition1 | filter_condition2\n",
    "filter_condition_and = filter_condition1 & filter_condition2\n",
    "base_sample = output_cv[filter_condition_and & (output_cv[\"solv1_x\"]==base_solv1_x)]\n",
    "pred_gam1 = base_sample[\"pred_gam1\"].values[0]\n",
    "pred_gam2 = base_sample[\"pred_gam2\"].values[0]\n",
    "output_cv = pd.read_csv('../analysis/solvgnn_output_cv_binary.csv')\n",
    "output_cv = output_cv.sort_values(by=\"idx\").reset_index()\n",
    "output_cv[\"solv1_smiles\"] = dataset.dataset[\"solv1_smiles\"]\n",
    "output_cv[\"solv2_smiles\"] = dataset.dataset[\"solv2_smiles\"]\n",
    "output_cv[\"solv1_name\"] = dataset.dataset[\"solv1_name\"]\n",
    "output_cv[\"solv2_name\"] = dataset.dataset[\"solv2_name\"]\n",
    "output_cv[\"solv1\"] = dataset.dataset[\"solv1\"]\n",
    "output_cv[\"solv2\"] = dataset.dataset[\"solv2\"]\n",
    "filter_condition1 = (output_cv[\"solv1\"]==base_solv1_id)|(output_cv[\"solv2\"]==base_solv1_id)\n",
    "filter_condition2 = (output_cv[\"solv1\"]==base_solv2_id)|(output_cv[\"solv2\"]==base_solv2_id)\n",
    "filter_condition_or = filter_condition1 | filter_condition2\n",
    "filter_condition_and = filter_condition1 & filter_condition2"
   ]
  },
  {
   "cell_type": "code",
   "execution_count": 17,
   "id": "7cbea25f",
   "metadata": {},
   "outputs": [
    {
     "name": "stdout",
     "output_type": "stream",
     "text": [
      "2000 out of 40000 done!\n",
      "4000 out of 40000 done!\n",
      "6000 out of 40000 done!\n",
      "8000 out of 40000 done!\n",
      "10000 out of 40000 done!\n",
      "12000 out of 40000 done!\n",
      "14000 out of 40000 done!\n",
      "16000 out of 40000 done!\n",
      "18000 out of 40000 done!\n",
      "20000 out of 40000 done!\n",
      "22000 out of 40000 done!\n",
      "24000 out of 40000 done!\n",
      "26000 out of 40000 done!\n",
      "28000 out of 40000 done!\n",
      "30000 out of 40000 done!\n",
      "32000 out of 40000 done!\n",
      "34000 out of 40000 done!\n",
      "36000 out of 40000 done!\n",
      "38000 out of 40000 done!\n",
      "40000 out of 40000 done!\n"
     ]
    }
   ],
   "source": [
    "sim_perm_all = []\n",
    "sim_all = []\n",
    "for sample_id in range(len(dataset)//5):\n",
    "    smiles_list1 = [dataset.solvent_smiles[base_solv1_id],dataset.solvent_smiles[base_solv2_id]]\n",
    "    smiles_list2 = [output_cv[\"solv1_smiles\"].iloc[i],output_cv[\"solv2_smiles\"].iloc[i]]\n",
    "    sim_perm,sim = dataset.get_external_similarity(idx1=None,idx2=None,\n",
    "                                                   smiles_list1=smiles_list1,smiles_list2=smiles_list2)\n",
    "    sim_perm_all.append(sim_perm)\n",
    "    sim_all.append(sim)\n",
    "    if (sample_id + 1) % 2000 == 0:\n",
    "        print('{} out of {} done!'.format(sample_id+1,len(dataset)//5))\n",
    "sim_all = np.array(sim_all*5)\n",
    "sim_perm_all = np.array(sim_perm_all*5)\n",
    "ae = (np.abs(output_cv[\"pred_gam1\"]-pred_gam1)+np.abs(output_cv[\"pred_gam2\"]-pred_gam2))/2\n",
    "ae_perm2 = (np.abs(output_cv[\"pred_gam2\"]-pred_gam1)+np.abs(output_cv[\"pred_gam1\"]-pred_gam2))/2\n",
    "ae[sim_perm_all==1] = ae_perm2[sim_perm_all==1]\n",
    "ae = ae/np.max(ae)\n",
    "alpha = 0.9\n",
    "cv_score = alpha*sim_all+(1-alpha)*ae\n",
    "output_cv[\"sim_base_{}_{}\".format(base_solv1_id,base_solv2_id)] = sim_all\n",
    "output_cv[\"cf_score_base_{}_{}\".format(base_solv1_id,base_solv2_id)] = cv_score\n",
    "cf_idx6 = output_cv[~filter_condition_or].sort_values(by=\"cf_score_base_{}_{}\".format(base_solv1_id,base_solv2_id),\n",
    "                                                      ascending=True).iloc[0]"
   ]
  },
  {
   "cell_type": "code",
   "execution_count": 18,
   "id": "b9c55552",
   "metadata": {},
   "outputs": [
    {
     "name": "stdout",
     "output_type": "stream",
     "text": [
      "solv1_smiles                     c1ccccc1\n",
      "solv2_smiles                    Cc1ccccc1\n",
      "solv1_name                        BENZENE\n",
      "solv2_name                        TOLUENE\n",
      "solv1                         solvent_262\n",
      "solv2                         solvent_782\n",
      "solv1_x                               0.1\n",
      "pred_gam1                       -0.022158\n",
      "pred_gam2                       -0.005008\n",
      "sim_base2_solvent_782                 1.0\n",
      "cf_score_base2_solvent_782       0.900463\n",
      "Name: 3250, dtype: object\n",
      "solv1_smiles                     c1ccccc1\n",
      "solv2_smiles                    Oc1ccccc1\n",
      "solv1_name                        BENZENE\n",
      "solv2_name                         PHENOL\n",
      "solv1                         solvent_262\n",
      "solv2                         solvent_710\n",
      "solv1_x                               0.9\n",
      "pred_gam1                        0.019816\n",
      "pred_gam2                         0.90866\n",
      "sim_base2_solvent_782            0.684211\n",
      "cf_score_base2_solvent_782       0.633519\n",
      "Name: 2939, dtype: object\n",
      "solv1_smiles                    Cc1ccccc1\n",
      "solv2_smiles                     c1ccncc1\n",
      "solv1_name                        TOLUENE\n",
      "solv2_name                       PYRIDINE\n",
      "solv1                         solvent_782\n",
      "solv2                         solvent_745\n",
      "solv1_x                               0.9\n",
      "pred_gam1                       -0.000816\n",
      "pred_gam2                        0.207118\n",
      "sim_base2_solvent_262            0.636364\n",
      "cf_score_base2_solvent_262       0.576488\n",
      "Name: 3084, dtype: object\n",
      "solv1_smiles                         c1ccccc1\n",
      "solv2_smiles                          C=CSC=C\n",
      "solv1_name                            BENZENE\n",
      "solv2_name                    DIVINYL SULFIDE\n",
      "solv1                             solvent_262\n",
      "solv2                             solvent_438\n",
      "solv1_x                                   0.9\n",
      "pred_gam1                            0.000116\n",
      "pred_gam2                           -0.002179\n",
      "sim_base2_solvent_782                     0.5\n",
      "cf_score_base2_solvent_782           0.450015\n",
      "Name: 1754, dtype: object\n",
      "solv1_smiles                         Cc1ccccc1\n",
      "solv2_smiles                            CCSSCC\n",
      "solv1_name                             TOLUENE\n",
      "solv2_name                    DIETHYLDISULFIDE\n",
      "solv1                              solvent_782\n",
      "solv2                              solvent_381\n",
      "solv1_x                                    0.7\n",
      "pred_gam1                             -0.00461\n",
      "pred_gam2                            -0.008005\n",
      "sim_base2_solvent_262                      0.5\n",
      "cf_score_base2_solvent_262            0.450025\n",
      "Name: 1528, dtype: object\n",
      "index                                              93155\n",
      "idx                                                93155\n",
      "true_gam1                                       0.010329\n",
      "pred_gam1                                      -0.000418\n",
      "true_gam2                                       0.012455\n",
      "pred_gam2                                      -0.002368\n",
      "ae1                                             0.010747\n",
      "ae2                                             0.014824\n",
      "avg_ae                                          0.012785\n",
      "solv1_x                                              0.5\n",
      "intra_hb1                                              0\n",
      "intra_hb2                                              0\n",
      "inter_hb                                               0\n",
      "tpsa_binary_avg                                        2\n",
      "solv1_smiles                                     C=CCC#N\n",
      "solv2_smiles                                  C=CC(=O)OC\n",
      "solv1_name                               3-BUTENENITRILE\n",
      "solv2_name                               METHYL ACRYLATE\n",
      "solv1                                        solvent_180\n",
      "solv2                                        solvent_585\n",
      "sim_base_solvent_262_solvent_782                0.013514\n",
      "cf_score_base_solvent_262_solvent_782           0.012163\n",
      "Name: 93155, dtype: object\n"
     ]
    }
   ],
   "source": [
    "print(cf_idx1)\n",
    "print(cf_idx2)\n",
    "print(cf_idx3)\n",
    "print(cf_idx4)\n",
    "print(cf_idx5)\n",
    "print(cf_idx6)"
   ]
  },
  {
   "cell_type": "code",
   "execution_count": null,
   "id": "251de12f",
   "metadata": {},
   "outputs": [],
   "source": []
  }
 ],
 "metadata": {
  "kernelspec": {
   "display_name": "Python 3 (ipykernel)",
   "language": "python",
   "name": "python3"
  },
  "language_info": {
   "codemirror_mode": {
    "name": "ipython",
    "version": 3
   },
   "file_extension": ".py",
   "mimetype": "text/x-python",
   "name": "python",
   "nbconvert_exporter": "python",
   "pygments_lexer": "ipython3",
   "version": "3.7.4"
  }
 },
 "nbformat": 4,
 "nbformat_minor": 5
}
