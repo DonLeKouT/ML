{
 "cells": [
  {
   "cell_type": "code",
   "execution_count": 1,
   "id": "ed5f47b5",
   "metadata": {},
   "outputs": [],
   "source": [
    "import tensorflow as tf\n",
    "import deepchem as dc\n",
    "from deepchem.molnet import load_sampl\n",
    "from deepchem.molnet.preset_hyper_parameters import hps"
   ]
  },
  {
   "cell_type": "code",
   "execution_count": 7,
   "id": "9ea34e3f",
   "metadata": {},
   "outputs": [
    {
     "name": "stdout",
     "output_type": "stream",
     "text": [
      "513\n"
     ]
    }
   ],
   "source": [
    "tasks, datasets, transformers = load_sampl(featurizer='GraphConv')\n",
    "train_dataset, valid_dataset, test_dataset = datasets\n",
    "print(len(train_dataset))"
   ]
  },
  {
   "cell_type": "code",
   "execution_count": 3,
   "id": "ef20a2e4",
   "metadata": {},
   "outputs": [],
   "source": [
    "model_name = 'graphconvreg'\n",
    "hyper_parameters = hps[model_name]"
   ]
  },
  {
   "cell_type": "code",
   "execution_count": 4,
   "id": "c6b5dc7b",
   "metadata": {},
   "outputs": [],
   "source": [
    "# adapted from https://github.com/deepchem/deepchem/blob/master/deepchem/molnet/run_benchmark_models.py\n",
    "batch_size = hyper_parameters['batch_size']\n",
    "nb_epoch = hyper_parameters['nb_epoch']\n",
    "learning_rate = hyper_parameters['learning_rate']\n",
    "n_filters = hyper_parameters['n_filters']\n",
    "n_fully_connected_nodes = hyper_parameters['n_fully_connected_nodes']\n",
    "seed = hyper_parameters['seed']\n",
    "model = dc.models.GraphConvModel(\n",
    "    len(tasks),\n",
    "    graph_conv_layers=[n_filters] * 2,\n",
    "    dense_layer_size=n_fully_connected_nodes,\n",
    "    batch_size=batch_size,\n",
    "    learning_rate=learning_rate,\n",
    "    random_seed=seed,\n",
    "    mode='regression')"
   ]
  },
  {
   "cell_type": "code",
   "execution_count": 6,
   "id": "796c8b94",
   "metadata": {},
   "outputs": [
    {
     "name": "stdout",
     "output_type": "stream",
     "text": [
      "Model: \"private__graph_conv_keras_model\"\n",
      "_________________________________________________________________\n",
      "Layer (type)                 Output Shape              Param #   \n",
      "=================================================================\n",
      "graph_conv (GraphConv)       multiple                  204288    \n",
      "_________________________________________________________________\n",
      "graph_conv_1 (GraphConv)     multiple                  346752    \n",
      "_________________________________________________________________\n",
      "batch_normalization (BatchNo multiple                  512       \n",
      "_________________________________________________________________\n",
      "batch_normalization_1 (Batch multiple                  512       \n",
      "_________________________________________________________________\n",
      "batch_normalization_2 (Batch multiple                  1024      \n",
      "_________________________________________________________________\n",
      "graph_pool (GraphPool)       multiple                  0         \n",
      "_________________________________________________________________\n",
      "graph_pool_1 (GraphPool)     multiple                  0         \n",
      "_________________________________________________________________\n",
      "dense (Dense)                multiple                  33024     \n",
      "_________________________________________________________________\n",
      "graph_gather (GraphGather)   multiple                  0         \n",
      "_________________________________________________________________\n",
      "trim_graph_output (TrimGraph multiple                  0         \n",
      "_________________________________________________________________\n",
      "dense_1 (Dense)              multiple                  513       \n",
      "=================================================================\n",
      "Total params: 586,625\n",
      "Trainable params: 585,601\n",
      "Non-trainable params: 1,024\n",
      "_________________________________________________________________\n"
     ]
    }
   ],
   "source": [
    "# model.fit(test_data)\n",
    "model.model.summary()"
   ]
  },
  {
   "cell_type": "code",
   "execution_count": null,
   "id": "feed534e",
   "metadata": {},
   "outputs": [],
   "source": []
  }
 ],
 "metadata": {
  "kernelspec": {
   "display_name": "Python 3",
   "language": "python",
   "name": "python3"
  },
  "language_info": {
   "codemirror_mode": {
    "name": "ipython",
    "version": 3
   },
   "file_extension": ".py",
   "mimetype": "text/x-python",
   "name": "python",
   "nbconvert_exporter": "python",
   "pygments_lexer": "ipython3",
   "version": "3.7.10"
  }
 },
 "nbformat": 4,
 "nbformat_minor": 5
}
