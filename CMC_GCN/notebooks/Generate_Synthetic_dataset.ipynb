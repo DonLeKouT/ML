{
 "cells": [
  {
   "cell_type": "code",
   "execution_count": 43,
   "id": "19b5c337",
   "metadata": {},
   "outputs": [],
   "source": [
    "import re\n",
    "from synthdat_generate import *\n",
    "from rdkit import Chem\n",
    "from rdkit.Chem import rdqueries, GraphDescriptors\n",
    "from rdkit.Chem.Draw import IPythonConsole"
   ]
  },
  {
   "cell_type": "markdown",
   "id": "d3797ef0",
   "metadata": {},
   "source": [
    "# Code"
   ]
  },
  {
   "cell_type": "code",
   "execution_count": 11,
   "id": "3f681dd7",
   "metadata": {},
   "outputs": [
    {
     "data": {
      "text/plain": [
       "['AAAAAABBBB', 'AAAAAAABBB', 'AAAAAAAABB', 'AAAAAAAAAB']"
      ]
     },
     "execution_count": 11,
     "metadata": {},
     "output_type": "execute_result"
    }
   ],
   "source": [
    "# generate linear surfactant-like structures\n",
    "AB_linear(10) # A,B represent tail/head arbitrarily"
   ]
  },
  {
   "cell_type": "code",
   "execution_count": 12,
   "id": "00cebbc3",
   "metadata": {},
   "outputs": [
    {
     "data": {
      "text/plain": [
       "['AAAAAABB(C)BB', 'AA(C)AAAAABBB', 'AAAAAAA(C)ABB', 'AAAAAAA(C)AAB']"
      ]
     },
     "execution_count": 12,
     "metadata": {},
     "output_type": "execute_result"
    }
   ],
   "source": [
    "# generate surfactant-like structures with a single branch\n",
    "AB_multibranch(10,'C',1)"
   ]
  },
  {
   "cell_type": "code",
   "execution_count": 13,
   "id": "aeba6262",
   "metadata": {},
   "outputs": [
    {
     "data": {
      "text/plain": [
       "['AA(C)AAAA(C)BBBB',\n",
       " 'AAAAAAABB(C)(C)B',\n",
       " 'AAAAAA(C)A(C)ABB',\n",
       " 'AAAAAA(C)(C)AAAB']"
      ]
     },
     "execution_count": 13,
     "metadata": {},
     "output_type": "execute_result"
    }
   ],
   "source": [
    "# generate surfactant-like structures with two branches\n",
    "AB_multibranch(10,'C',2)"
   ]
  },
  {
   "cell_type": "code",
   "execution_count": 19,
   "id": "dd43f39f",
   "metadata": {},
   "outputs": [
    {
     "name": "stdout",
     "output_type": "stream",
     "text": [
      "False\n"
     ]
    }
   ],
   "source": [
    "# combined different structures and convert to chemical structures through SMILES strings\n",
    "\n",
    "# generate three different base structures\n",
    "synthdat = []\n",
    "for i in range(10,41):\n",
    "    synthdat += AB_linear(i)\n",
    "    synthdat += AB_multibranch(i,\"C\",1)\n",
    "    synthdat += AB_multibranch(i, \"C\",2)\n",
    "\n",
    "# replace AB with actual atoms\n",
    "synthdat_temp = []\n",
    "for i,synthmol in enumerate(synthdat):\n",
    "    temp = re.sub(\"C\",\"CC\",synthmol)\n",
    "    temp = re.sub(\"A\",\"C\",temp)\n",
    "    temp = re.sub(\"B\",\"OCC\",temp)\n",
    "    temp = temp + \"O\"\n",
    "    temp = Chem.MolToSmiles(Chem.MolFromSmiles(temp)) # convert to canonical SMILES\n",
    "    synthdat_temp.append(temp)\n",
    "synthdat = synthdat_temp.copy()\n",
    "print(len(synthdat) != len(set(synthdat))) # check duplicates (False indicates no duplicates)"
   ]
  },
  {
   "cell_type": "code",
   "execution_count": 20,
   "id": "87e67628",
   "metadata": {},
   "outputs": [
    {
     "name": "stdout",
     "output_type": "stream",
     "text": [
      "False\n",
      "False\n"
     ]
    }
   ],
   "source": [
    "synthdat_ring = []\n",
    "for i in range(10,41):\n",
    "    synthdat_ring += AB_linear(i)\n",
    "synthdat_temp = []\n",
    "for i,synthmol in enumerate(synthdat_ring):\n",
    "    temp = re.sub(\"A\",\"C\",synthmol)\n",
    "    temp = re.sub(\"B\",\"OCC\",temp)\n",
    "    temp = temp + \"O\"\n",
    "    temp = Chem.MolToSmiles(Chem.MolFromSmiles(temp)) # convert to canonical SMILES\n",
    "    synthdat_temp.append(temp)\n",
    "synthdat_ring = synthdat_temp.copy()\n",
    "synthdat_ring = add_ring(synthdat_ring,6,'C')\n",
    "synthdat_rbranch = add_branch(synthdat_ring,'(C)')\n",
    "synthdat_ring.extend(synthdat_rbranch)\n",
    "invalid_structure = []\n",
    "for i,synthmol in enumerate(synthdat_ring):\n",
    "    m = Chem.MolFromSmiles(synthmol)\n",
    "    if m is None:\n",
    "        print(\"Invalid structure\", i, synthmol)\n",
    "        invalid_structure.append(i)    \n",
    "synthdat_temp = []\n",
    "for i,synthmol in enumerate(synthdat_ring):\n",
    "    temp = Chem.MolToSmiles(Chem.MolFromSmiles(synthmol)) # convert to canonical SMILES\n",
    "    synthdat_temp.append(temp) \n",
    "synthdat_ring = synthdat_temp.copy()\n",
    "print(len(synthdat_ring) != len(set(synthdat_ring))) # check duplicates if true there are duplicates  \n",
    "synthdat.extend(synthdat_ring)   \n",
    "print(len(synthdat) != len(set(synthdat))) # check duplicates if true there are duplicates  "
   ]
  },
  {
   "cell_type": "code",
   "execution_count": 21,
   "id": "4459c814",
   "metadata": {},
   "outputs": [
    {
     "data": {
      "text/plain": [
       "1820"
      ]
     },
     "execution_count": 21,
     "metadata": {},
     "output_type": "execute_result"
    }
   ],
   "source": [
    "# length of the dataset\n",
    "len(synthdat)"
   ]
  },
  {
   "cell_type": "code",
   "execution_count": 38,
   "id": "929ff3d3",
   "metadata": {},
   "outputs": [],
   "source": [
    "# calculate the topological descriptors of an molecule\n",
    "sample = synthdat[0]"
   ]
  },
  {
   "cell_type": "code",
   "execution_count": 39,
   "id": "2fa62f5f",
   "metadata": {},
   "outputs": [
    {
     "data": {
      "text/plain": [
       "'CCCCCCOCCOCCOCCOCCO'"
      ]
     },
     "execution_count": 39,
     "metadata": {},
     "output_type": "execute_result"
    }
   ],
   "source": [
    "sample"
   ]
  },
  {
   "cell_type": "code",
   "execution_count": 40,
   "id": "fe738b52",
   "metadata": {},
   "outputs": [
    {
     "data": {
      "image/png": "[encoded data removed]",
      "text/plain": [
       "<rdkit.Chem.rdchem.Mol at 0x2d43012dd50>"
      ]
     },
     "execution_count": 40,
     "metadata": {},
     "output_type": "execute_result"
    }
   ],
   "source": [
    "sample_mol = Chem.MolFromSmiles(sample)\n",
    "sample_mol"
   ]
  },
  {
   "cell_type": "code",
   "execution_count": 41,
   "id": "e42bdba8",
   "metadata": {},
   "outputs": [
    {
     "name": "stdout",
     "output_type": "stream",
     "text": [
      "#C: 14, #O: 5, #ring: 0\n"
     ]
    }
   ],
   "source": [
    "q = rdqueries.AtomNumEqualsQueryAtom(6)\n",
    "num_C = len(sample_mol.GetAtomsMatchingQuery(q))\n",
    "q = rdqueries.AtomNumEqualsQueryAtom(8)\n",
    "num_O = len(sample_mol.GetAtomsMatchingQuery(q))\n",
    "num_ring = sample_mol.GetRingInfo().NumRings()\n",
    "print('#C: {}, #O: {}, #ring: {}'.format(num_C, num_O, num_ring))"
   ]
  },
  {
   "cell_type": "code",
   "execution_count": 47,
   "id": "4ced6751",
   "metadata": {},
   "outputs": [
    {
     "name": "stdout",
     "output_type": "stream",
     "text": [
      "Balaban J: 2.88, Bertz CT: 138.77\n"
     ]
    }
   ],
   "source": [
    "balaban_J = Chem.GraphDescriptors.BalabanJ(sample_mol)\n",
    "bertz_CT = Chem.GraphDescriptors.BertzCT(sample_mol)\n",
    "print('Balaban J: {:.2f}, Bertz CT: {:.2f}'.format(balaban_J, bertz_CT))"
   ]
  },
  {
   "cell_type": "code",
   "execution_count": null,
   "id": "cb357246",
   "metadata": {},
   "outputs": [],
   "source": []
  }
 ],
 "metadata": {
  "kernelspec": {
   "display_name": "Python 3",
   "language": "python",
   "name": "python3"
  },
  "language_info": {
   "codemirror_mode": {
    "name": "ipython",
    "version": 3
   },
   "file_extension": ".py",
   "mimetype": "text/x-python",
   "name": "python",
   "nbconvert_exporter": "python",
   "pygments_lexer": "ipython3",
   "version": "3.7.4"
  }
 },
 "nbformat": 4,
 "nbformat_minor": 5
}
