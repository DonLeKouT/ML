{
 "cells": [
  {
   "cell_type": "code",
   "execution_count": 1,
   "id": "2c2698a9",
   "metadata": {},
   "outputs": [],
   "source": [
    "import rdkit\n",
    "from rdkit import Chem\n",
    "from rdkit.Chem import AllChem\n",
    "import numpy as np\n",
    "import pandas as pd\n",
    "from sklearn.manifold import TSNE\n",
    "from sklearn.decomposition import PCA\n",
    "import matplotlib.pyplot as plt\n",
    "plt.rcParams[\"font.family\"] = \"Arial\""
   ]
  },
  {
   "cell_type": "code",
   "execution_count": 2,
   "id": "1d69baf4",
   "metadata": {},
   "outputs": [],
   "source": [
    "def get_fp_mat(smiles_list, fpsize = 1024, check_smiles = True):\n",
    "\n",
    "    # initialize the feature matrix\n",
    "    fp_mat = np.zeros((len(smiles_list), fpsize))\n",
    "    \n",
    "    # loop through the SMILES\n",
    "    if check_smiles:\n",
    "        for idx, smiles in enumerate(smiles_list):\n",
    "            m = Chem.MolFromSmiles(smiles)\n",
    "\n",
    "            # check if the input SMILES is valid\n",
    "            if m is None:\n",
    "                print('Invalid SMILES: Index {} {}'.format(idx, smiles))\n",
    "                        \n",
    "            else:\n",
    "                # get the fingerprints\n",
    "                fp_mat[idx, :] = np.array(AllChem.GetMorganFingerprintAsBitVect(m, 3, nBits=1024))\n",
    "                \n",
    "    # use when the smiles validity is already checked    \n",
    "    else:\n",
    "        for idx, smiles in enumerate(smiles_list):\n",
    "            m = Chem.MolFromSmiles(smiles)\n",
    "            # get the fingerprints\n",
    "            fp_mat[idx, :] = np.array(AllChem.GetMorganFingerprintAsBitVect(m, 3, nBits=1024))\n",
    "            \n",
    "    return fp_mat            "
   ]
  },
  {
   "cell_type": "code",
   "execution_count": 3,
   "id": "a208b6af",
   "metadata": {},
   "outputs": [],
   "source": [
    "dataset = pd.read_csv('dataset_202_with_design.csv',names=['smiles','logCMC'])\n",
    "all_ind = np.arange(202)\n",
    "test_ind = np.array([8,14,26,31,43,54,57,68,72,80,99,110,125,132,140,150,164,171,178,185,192,197])\n",
    "train_ind = np.asarray([x for x in all_ind if x not in test_ind])\n",
    "design_ind = np.arange(202,206,1)"
   ]
  },
  {
   "cell_type": "code",
   "execution_count": 4,
   "id": "34051bea",
   "metadata": {},
   "outputs": [],
   "source": [
    "train_test_label = []\n",
    "for i in range(len(dataset)):\n",
    "    if i in test_ind:\n",
    "        train_test_label.append('test')\n",
    "    elif i in train_ind:\n",
    "        train_test_label.append('train')\n",
    "    else:\n",
    "        train_test_label.append('design')"
   ]
  },
  {
   "cell_type": "code",
   "execution_count": 5,
   "id": "81c141c4",
   "metadata": {},
   "outputs": [],
   "source": [
    "X = get_fp_mat(dataset['smiles'].to_list())\n",
    "seed = 2021\n",
    "tsne = TSNE(n_components=2,random_state=seed)\n",
    "tsne_components = tsne.fit_transform(X)\n",
    "dataset['tsne_para1'] = tsne_components[:,0]\n",
    "dataset['tsne_para2'] = tsne_components[:,1]"
   ]
  },
  {
   "cell_type": "code",
   "execution_count": 6,
   "id": "696d72d9",
   "metadata": {},
   "outputs": [
    {
     "data": {
      "text/plain": [
       "(206, 1024)"
      ]
     },
     "execution_count": 6,
     "metadata": {},
     "output_type": "execute_result"
    }
   ],
   "source": [
    "X.shape"
   ]
  },
  {
   "cell_type": "code",
   "execution_count": 6,
   "id": "ac02fb73",
   "metadata": {},
   "outputs": [],
   "source": [
    "pca = PCA(n_components=2)\n",
    "pca.fit(X[train_ind])\n",
    "pca_components = pca.transform(X)"
   ]
  },
  {
   "cell_type": "code",
   "execution_count": 7,
   "id": "8fbb6621",
   "metadata": {},
   "outputs": [],
   "source": [
    "dataset['pca_para1'] = pca_components[:,0]\n",
    "dataset['pca_para2'] = pca_components[:,1]"
   ]
  },
  {
   "cell_type": "code",
   "execution_count": 8,
   "id": "0d6a1db8",
   "metadata": {},
   "outputs": [],
   "source": [
    "dataset_train = dataset.loc[train_ind]\n",
    "dataset_test = dataset.loc[test_ind]\n",
    "dataset_design = dataset.loc[design_ind]"
   ]
  },
  {
   "cell_type": "code",
   "execution_count": 9,
   "id": "c2106b5c",
   "metadata": {},
   "outputs": [],
   "source": [
    "# fig,ax = plt.subplots(figsize=(3.3,3.6))\n",
    "# im = ax.scatter(dataset_train['tsne_para1'], dataset_train['tsne_para2'], \n",
    "#                 c=dataset_train['logCMC'], alpha=0.7, edgecolors='none',cmap=plt.cm.get_cmap('Spectral'),\n",
    "#                 vmin=-1,vmax=5,s=50,label='train')\n",
    "# ax.scatter(dataset_test['tsne_para1'], dataset_test['tsne_para2'], \n",
    "#            marker='x',c=dataset_test['logCMC'], alpha=0.7, edgecolors='none',cmap=plt.cm.get_cmap('Spectral'),\n",
    "#            vmin=-1,vmax=5,s=50,label='test')\n",
    "# ax.set_xticks(np.arange(-15,16,5))\n",
    "# ax.set_yticks(np.arange(-15,16,5))\n",
    "# ax.set_xlabel(r'$dimension_1$',size=11)\n",
    "# ax.set_ylabel(r'$dimension_2$',size=11)\n",
    "# cbar = fig.colorbar(im, ax=ax)\n",
    "# cbar.set_label('log CMC', rotation=270)\n",
    "# plt.legend(loc='center',bbox_to_anchor=(0.5, -0.4))\n",
    "# plt.tight_layout()\n",
    "# plt.show()"
   ]
  },
  {
   "cell_type": "code",
   "execution_count": 49,
   "id": "1acff315",
   "metadata": {},
   "outputs": [
    {
     "data": {
      "image/png": "[encoded data removed]",
      "text/plain": [
       "<Figure size 270x230.4 with 1 Axes>"
      ]
     },
     "metadata": {
      "needs_background": "light"
     },
     "output_type": "display_data"
    }
   ],
   "source": [
    "fig,ax = plt.subplots(figsize=(3.75,3.2))\n",
    "ax.grid(color='0.95',alpha=0.6)\n",
    "im = ax.scatter(dataset_train['tsne_para1'], dataset_train['tsne_para2'], \n",
    "                c='0.5', alpha=1, edgecolors='none',\n",
    "                vmin=-1,vmax=5,s=10,label='Train')\n",
    "ax.scatter(dataset_test['tsne_para1'], dataset_test['tsne_para2'], \n",
    "           marker='x', c='r', alpha=1, edgecolors='none',\n",
    "           vmin=-1,vmax=5,s=15,label='Test')\n",
    "ax.scatter(dataset_design['tsne_para1'], dataset_design['tsne_para2'], \n",
    "           marker='*', c='g', alpha=1, \n",
    "           vmin=-1,vmax=5,s=12,label='Design')\n",
    "ax.set_xticks(np.arange(-15,16,5))\n",
    "ax.set_yticks(np.arange(-15,16,5))\n",
    "ax.set_xlabel('Component 1',size=12)\n",
    "ax.set_ylabel('Component 2',size=12)\n",
    "plt.legend(loc='best',prop={'size': 8})\n",
    "plt.gca().spines['left'].set_linewidth(1.2)\n",
    "plt.gca().spines['bottom'].set_linewidth(1.2)\n",
    "plt.gca().spines['right'].set_linewidth(1.2)\n",
    "plt.gca().spines['top'].set_linewidth(1.2)\n",
    "plt.gca().tick_params(width=1.2)  \n",
    "# plt.legend(loc='center',bbox_to_anchor=(0.5, -0.4))\n",
    "plt.tight_layout()\n",
    "plt.show()\n",
    "fig.savefig(\"tsne_{}.pdf\".format(seed),transparent=True)"
   ]
  },
  {
   "cell_type": "code",
   "execution_count": 53,
   "id": "32c91367",
   "metadata": {},
   "outputs": [
    {
     "data": {
      "text/plain": [
       "smiles        CCCCCCCCCCCCCCCC(=O)NC1CCOC1=O\n",
       "logCMC                              -0.79588\n",
       "tsne_para1                          7.251263\n",
       "tsne_para2                         -4.996642\n",
       "pca_para1                           0.343548\n",
       "pca_para2                          -1.147743\n",
       "Name: 48, dtype: object"
      ]
     },
     "execution_count": 53,
     "metadata": {},
     "output_type": "execute_result"
    }
   ],
   "source": [
    "dataset.loc[174]\n",
    "dataset.loc[122]\n",
    "dataset.loc[192]\n",
    "dataset.loc[48]\n"
   ]
  },
  {
   "cell_type": "code",
   "execution_count": 31,
   "id": "1dd54e0b",
   "metadata": {},
   "outputs": [
    {
     "data": {
      "image/png": "[encoded data removed]",
      "text/plain": [
       "<Figure size 237.6x237.6 with 1 Axes>"
      ]
     },
     "metadata": {
      "needs_background": "light"
     },
     "output_type": "display_data"
    }
   ],
   "source": [
    "fig,ax = plt.subplots(figsize=(3.3,3.3))\n",
    "ax.grid(color='0.95',alpha=0.6)\n",
    "im = ax.scatter(dataset_train['tsne_para1'], dataset_train['tsne_para2'], \n",
    "                c='b', alpha=0.5, edgecolors='none',\n",
    "                vmin=-1,vmax=5,s=8,label='Train')\n",
    "ax.scatter(dataset_test['tsne_para1'], dataset_test['tsne_para2'], \n",
    "           marker='^', c='g', alpha=1, edgecolors='none',\n",
    "           vmin=-1,vmax=5,s=12,label='Test')\n",
    "ax.scatter(dataset_design['tsne_para1'], dataset_design['tsne_para2'], \n",
    "           marker='*', c='orange', alpha=1, \n",
    "           vmin=-1,vmax=5,s=12,label='Design')\n",
    "ax.set_xticks(np.arange(-15,16,5))\n",
    "ax.set_yticks(np.arange(-15,16,5))\n",
    "ax.set_xlabel('Component 1',size=11)\n",
    "ax.set_ylabel('Component 2',size=11)\n",
    "plt.legend(loc='best',prop={'size': 8})\n",
    "# plt.legend(loc='center',bbox_to_anchor=(0.5, -0.4))\n",
    "plt.tight_layout()\n",
    "plt.show()\n",
    "fig.savefig('tsne_v2_{}.png'.format(seed),dpi=300)"
   ]
  },
  {
   "cell_type": "code",
   "execution_count": 23,
   "id": "ed9546ec",
   "metadata": {},
   "outputs": [
    {
     "data": {
      "image/png": "[encoded data removed]",
      "text/plain": [
       "<Figure size 122.4x108 with 1 Axes>"
      ]
     },
     "metadata": {
      "needs_background": "light"
     },
     "output_type": "display_data"
    }
   ],
   "source": [
    "fig,ax = plt.subplots(figsize=(1.7,1.5))\n",
    "ax.grid(color='0.95',alpha=0.6,linewidth=0.5)\n",
    "im = ax.scatter(dataset_train['tsne_para1'], dataset_train['tsne_para2'], \n",
    "                c='0.5', alpha=0.8, edgecolors='none',\n",
    "                vmin=-1,vmax=5,s=3,label='Train')\n",
    "ax.scatter(dataset_test['tsne_para1'], dataset_test['tsne_para2'], \n",
    "           marker='^', c='g', alpha=1, edgecolors='none',\n",
    "           vmin=-1,vmax=5,s=6,label='Test')\n",
    "ax.set_xticks(np.arange(-15,16,5))\n",
    "ax.set_yticks(np.arange(-15,16,5))\n",
    "ax.set_xlabel('Component 1',size=8)\n",
    "ax.set_ylabel('Component 2',size=8)\n",
    "# plt.legend(loc='best',prop={'size': 8})\n",
    "# plt.legend(loc='center',bbox_to_anchor=(0.5, -0.4))\n",
    "plt.xticks(fontsize=5)\n",
    "plt.yticks(fontsize=5)\n",
    "plt.tight_layout()\n",
    "plt.show()\n",
    "fig.savefig('tsne_{}_small.png'.format(seed),dpi=300)"
   ]
  },
  {
   "cell_type": "code",
   "execution_count": 24,
   "id": "2d9feb5a",
   "metadata": {},
   "outputs": [
    {
     "data": {
      "image/png": "[encoded data removed]",
      "text/plain": [
       "<Figure size 237.6x237.6 with 1 Axes>"
      ]
     },
     "metadata": {
      "needs_background": "light"
     },
     "output_type": "display_data"
    }
   ],
   "source": [
    "fig,ax = plt.subplots(figsize=(3.3,3.3))\n",
    "ax.grid(color='0.95',alpha=0.6)\n",
    "im = ax.scatter(dataset_train['pca_para1'], dataset_train['pca_para2'], \n",
    "                c='0.5', alpha=1, edgecolors='none',\n",
    "                vmin=-1,vmax=5,s=8,label='Train')\n",
    "ax.scatter(dataset_test['pca_para1'], dataset_test['pca_para2'], \n",
    "           marker='x', c='r', alpha=1, edgecolors='none',\n",
    "           vmin=-1,vmax=5,s=12,label='Test')\n",
    "ax.scatter(dataset_design['pca_para1'], dataset_design['pca_para2'], \n",
    "           marker='*', c='g', alpha=1, \n",
    "           vmin=-1,vmax=5,s=12,label='Design')\n",
    "ax.set_xticks(np.arange(-4,7,2))\n",
    "ax.set_yticks(np.arange(-4,7,2))\n",
    "ax.set_xlabel('Component 1',size=11)\n",
    "ax.set_ylabel('Component 2',size=11)\n",
    "plt.legend(loc='best',prop={'size': 8})\n",
    "# plt.legend(loc='center',bbox_to_anchor=(0.5, -0.4))\n",
    "plt.tight_layout()\n",
    "plt.show()\n",
    "fig.savefig('pca.png',dpi=300)"
   ]
  },
  {
   "cell_type": "code",
   "execution_count": null,
   "id": "a688c249",
   "metadata": {},
   "outputs": [],
   "source": []
  }
 ],
 "metadata": {
  "kernelspec": {
   "display_name": "Python 3",
   "language": "python",
   "name": "python3"
  },
  "language_info": {
   "codemirror_mode": {
    "name": "ipython",
    "version": 3
   },
   "file_extension": ".py",
   "mimetype": "text/x-python",
   "name": "python",
   "nbconvert_exporter": "python",
   "pygments_lexer": "ipython3",
   "version": "3.7.4"
  }
 },
 "nbformat": 4,
 "nbformat_minor": 5
}
